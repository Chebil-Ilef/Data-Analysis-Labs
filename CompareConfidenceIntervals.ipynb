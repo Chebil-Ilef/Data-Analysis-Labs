{
  "nbformat": 4,
  "nbformat_minor": 0,
  "metadata": {
    "colab": {
      "provenance": []
    },
    "kernelspec": {
      "name": "python3",
      "display_name": "Python 3"
    },
    "language_info": {
      "name": "python"
    }
  },
  "cells": [
    {
      "cell_type": "code",
      "execution_count": 4,
      "metadata": {
        "colab": {
          "base_uri": "https://localhost:8080/"
        },
        "id": "ajXJ7YgJznTT",
        "outputId": "8061368c-df62-4bbb-b8e8-146fa52b0e6c"
      },
      "outputs": [
        {
          "output_type": "stream",
          "name": "stdout",
          "text": [
            "A 99% confidence interval is wider compared to a 95% confidence interval.\n",
            "Estimated sample size for a 99% confidence level with a width of 0.3: 3\n"
          ]
        }
      ],
      "source": [
        "import math\n",
        "from scipy.stats import norm\n",
        "\n",
        "# Given data\n",
        "confidence_level_95 = 0.95\n",
        "confidence_level_99 = 0.99\n",
        "width_limit = 0.3\n",
        "sigma = (0.82 - 0.49) / (2 * norm.ppf((1 + confidence_level_95) / 2))  # Standard deviation estimate from the given 95% confidence interval\n",
        "\n",
        "# 1. Comparison of Confidence Intervals\n",
        "if confidence_level_99 > confidence_level_95:\n",
        "    print(\"A 99% confidence interval is wider compared to a 95% confidence interval.\")\n",
        "else:\n",
        "    print(\"A 99% confidence interval is not wider compared to a 95% confidence interval.\")\n",
        "\n",
        "# 2. Estimation of Sample Size\n",
        "# For 99% confidence level\n",
        "z_99 = norm.ppf((1 + confidence_level_99) / 2)\n",
        "n_99 = math.ceil((2 * (z_99 * sigma) / width_limit) ** 2)\n",
        "\n",
        "print(\"Estimated sample size for a 99% confidence level with a width of 0.3:\", n_99)\n"
      ]
    }
  ]
}